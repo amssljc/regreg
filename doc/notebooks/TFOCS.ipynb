{
 "cells": [
  {
   "cell_type": "code",
   "execution_count": 4,
   "metadata": {
    "collapsed": false
   },
   "outputs": [],
   "source": [
    "import regreg.api as rr\n",
    "import numpy as np\n",
    "%load_ext rpy2.ipython"
   ]
  },
  {
   "cell_type": "code",
   "execution_count": 5,
   "metadata": {
    "collapsed": false
   },
   "outputs": [
    {
     "name": "stderr",
     "output_type": "stream",
     "text": [
      "/home/jb/.virtualenvs/py2/local/lib/python2.7/site-packages/rpy2/robjects/functions.py:106: UserWarning: Loaded lars 1.2\n",
      "\n",
      "\n",
      "  res = super(Function, self).__call__(*new_args, **new_kwargs)\n"
     ]
    }
   ],
   "source": [
    "%%R -o X,Y\n",
    "library(lars)\n",
    "data(diabetes)\n",
    "X = diabetes$x\n",
    "Y = diabetes$y"
   ]
  },
  {
   "cell_type": "code",
   "execution_count": 6,
   "metadata": {
    "collapsed": false
   },
   "outputs": [],
   "source": [
    "X = np.hstack([X, np.ones((X.shape[0],1))])\n",
    "#betah = np.dot(np.linalg.pinv(X), Y)\n",
    "#Yhat = np.dot(X,betah)\n",
    "#smallest_l2_bound = np.linalg.norm(Y-Yhat)\n",
    "#null_soln = Y-Y.mean()\n",
    "#R = smallest_l2_bound / np.linalg.norm(null_soln)"
   ]
  },
  {
   "cell_type": "code",
   "execution_count": 7,
   "metadata": {
    "collapsed": false
   },
   "outputs": [],
   "source": [
    "l2 = rr.l2norm.affine(X,-Y,bound=0.65*np.linalg.norm(Y))\n",
    "l1 = rr.l1norm(X.shape[1], lagrange=1)\n",
    "l2s = l2.smoothed(rr.identity_quadratic(1.e-12,0,0,0))\n",
    "problem = rr.simple_problem(l2s, l1)"
   ]
  },
  {
   "cell_type": "code",
   "execution_count": 8,
   "metadata": {
    "collapsed": false
   },
   "outputs": [
    {
     "data": {
      "text/plain": [
       "0.65000268709529085"
      ]
     },
     "execution_count": 8,
     "metadata": {},
     "output_type": "execute_result"
    }
   ],
   "source": [
    "primal_nesta, dual_nesta = rr.nesta(None, l1, l2)\n",
    "np.linalg.norm(Y - np.dot(X, primal_nesta)) / np.linalg.norm(Y)"
   ]
  },
  {
   "cell_type": "code",
   "execution_count": 9,
   "metadata": {
    "collapsed": false
   },
   "outputs": [
    {
     "data": {
      "text/plain": [
       "0.31636864339308501"
      ]
     },
     "execution_count": 9,
     "metadata": {},
     "output_type": "execute_result"
    }
   ],
   "source": [
    "l1_lagrange = rr.l1norm(X.shape[1],lagrange=np.fabs(primal_nesta).sum())\n",
    "loss = rr.squared_error(X,Y, coef=2)\n",
    "newsoln = rr.simple_problem(loss, l1_lagrange).solve()\n",
    "np.linalg.norm(Y - np.dot(X,newsoln)) / np.linalg.norm(Y)"
   ]
  },
  {
   "cell_type": "code",
   "execution_count": 10,
   "metadata": {
    "collapsed": false
   },
   "outputs": [
    {
     "data": {
      "text/plain": [
       "0.64999986908830232"
      ]
     },
     "execution_count": 10,
     "metadata": {},
     "output_type": "execute_result"
    }
   ],
   "source": [
    "transform, atom = l2.dual\n",
    "primal_tfocs, dual_tfocs = rr.tfocs(l1, transform, atom)\n",
    "np.linalg.norm(Y - np.dot(X, primal_tfocs)) / np.linalg.norm(Y)"
   ]
  },
  {
   "cell_type": "code",
   "execution_count": 11,
   "metadata": {
    "collapsed": false
   },
   "outputs": [
    {
     "name": "stdout",
     "output_type": "stream",
     "text": [
      "1 loops, best of 3: 1.33 s per loop\n"
     ]
    }
   ],
   "source": [
    "%timeit primal_tfocs, dual_tfocs = rr.tfocs(l1, transform, atom)"
   ]
  },
  {
   "cell_type": "code",
   "execution_count": 12,
   "metadata": {
    "collapsed": false
   },
   "outputs": [
    {
     "name": "stdout",
     "output_type": "stream",
     "text": [
      "10 loops, best of 3: 173 ms per loop\n"
     ]
    }
   ],
   "source": [
    "%timeit primal_nesta, dual_nesta = rr.nesta(None, l1, l2)"
   ]
  },
  {
   "cell_type": "code",
   "execution_count": 13,
   "metadata": {
    "collapsed": false
   },
   "outputs": [
    {
     "data": {
      "text/plain": [
       "9.1815670796622612e-06"
      ]
     },
     "execution_count": 13,
     "metadata": {},
     "output_type": "execute_result"
    }
   ],
   "source": [
    "np.linalg.norm(primal_tfocs - primal_nesta) / (1+np.linalg.norm(primal_nesta))\n"
   ]
  },
  {
   "cell_type": "code",
   "execution_count": 14,
   "metadata": {
    "collapsed": false
   },
   "outputs": [
    {
     "data": {
      "text/plain": [
       "0.0091156808228944081"
      ]
     },
     "execution_count": 14,
     "metadata": {},
     "output_type": "execute_result"
    }
   ],
   "source": [
    "np.linalg.norm(dual_tfocs - dual_nesta) / (1+np.linalg.norm(dual_nesta))"
   ]
  },
  {
   "cell_type": "markdown",
   "metadata": {},
   "source": [
    "## Noiseless case: minimimum L1 norm reconstruction"
   ]
  },
  {
   "cell_type": "code",
   "execution_count": 15,
   "metadata": {
    "collapsed": false
   },
   "outputs": [
    {
     "name": "stderr",
     "output_type": "stream",
     "text": [
      "/home/jb/code/regreg/regreg/problems/simple.py:358: UserWarning: problem not solved after 100 iterations\n",
      "  warnings.warn('problem not solved after %d iterations' % max_iters)\n"
     ]
    }
   ],
   "source": [
    "n, p = 200, 5000\n",
    "X = np.random.standard_normal((n, p))\n",
    "l1 = rr.l1norm(p, lagrange=1)\n",
    "beta = np.zeros(p)\n",
    "beta[:10] = 10\n",
    "Y = np.dot(X, beta)\n",
    "\n",
    "constraint = rr.zero_constraint.affine(X,-Y)\n",
    "transform, atom = constraint.dual\n",
    "primal_tfocs, dual_tfocs = rr.tfocs(l1, transform, atom)\n",
    "\n",
    "\n"
   ]
  },
  {
   "cell_type": "code",
   "execution_count": 16,
   "metadata": {
    "collapsed": false
   },
   "outputs": [
    {
     "data": {
      "text/plain": [
       "5.9576977318511106e-05"
      ]
     },
     "execution_count": 16,
     "metadata": {},
     "output_type": "execute_result"
    }
   ],
   "source": [
    "np.linalg.norm(Y - np.dot(X, primal_tfocs)) / np.linalg.norm(Y)\n"
   ]
  },
  {
   "cell_type": "code",
   "execution_count": null,
   "metadata": {
    "collapsed": false
   },
   "outputs": [],
   "source": []
  },
  {
   "cell_type": "code",
   "execution_count": 17,
   "metadata": {
    "collapsed": false
   },
   "outputs": [
    {
     "data": {
      "text/plain": [
       "array([  9.99932683e+00,   1.00001407e+01,   9.99990989e+00,\n",
       "         9.99969972e+00,   9.99847969e+00,   9.99856339e+00,\n",
       "         1.00011371e+01,   1.00002467e+01,   1.00005042e+01,\n",
       "         1.00003603e+01,   0.00000000e+00,   0.00000000e+00,\n",
       "         0.00000000e+00,   0.00000000e+00,   0.00000000e+00,\n",
       "         0.00000000e+00,   0.00000000e+00,  -1.54225134e-06,\n",
       "         0.00000000e+00,   0.00000000e+00])"
      ]
     },
     "execution_count": 17,
     "metadata": {},
     "output_type": "execute_result"
    }
   ],
   "source": [
    "primal_tfocs[:20]"
   ]
  },
  {
   "cell_type": "code",
   "execution_count": null,
   "metadata": {
    "collapsed": false
   },
   "outputs": [],
   "source": []
  },
  {
   "cell_type": "code",
   "execution_count": null,
   "metadata": {
    "collapsed": true
   },
   "outputs": [],
   "source": []
  }
 ],
 "metadata": {
  "kernelspec": {
   "display_name": "Python 2",
   "language": "python",
   "name": "python2"
  },
  "language_info": {
   "codemirror_mode": {
    "name": "ipython",
    "version": 2
   },
   "file_extension": ".py",
   "mimetype": "text/x-python",
   "name": "python",
   "nbconvert_exporter": "python",
   "pygments_lexer": "ipython2",
   "version": "2.7.6"
  }
 },
 "nbformat": 4,
 "nbformat_minor": 0
}
