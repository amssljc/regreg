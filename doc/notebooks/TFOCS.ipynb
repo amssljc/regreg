{
 "cells": [
  {
   "cell_type": "code",
   "execution_count": null,
   "metadata": {
    "collapsed": false
   },
   "outputs": [],
   "source": [
    "import regreg.api as rr\n",
    "import numpy as np\n",
    "%load_ext rpy2.ipython"
   ]
  },
  {
   "cell_type": "code",
   "execution_count": null,
   "metadata": {
    "collapsed": false
   },
   "outputs": [],
   "source": [
    "%%R -o X,Y\n",
    "library(lars)\n",
    "data(diabetes)\n",
    "X = diabetes$x\n",
    "Y = diabetes$y"
   ]
  },
  {
   "cell_type": "code",
   "execution_count": null,
   "metadata": {
    "collapsed": false
   },
   "outputs": [],
   "source": [
    "X = np.hstack([X, np.ones((X.shape[0],1))])\n",
    "#betah = np.dot(np.linalg.pinv(X), Y)\n",
    "#Yhat = np.dot(X,betah)\n",
    "#smallest_l2_bound = np.linalg.norm(Y-Yhat)\n",
    "#null_soln = Y-Y.mean()\n",
    "#R = smallest_l2_bound / np.linalg.norm(null_soln)"
   ]
  },
  {
   "cell_type": "code",
   "execution_count": null,
   "metadata": {
    "collapsed": false
   },
   "outputs": [],
   "source": [
    "l2 = rr.l2norm.affine(X,-Y,bound=0.65*np.linalg.norm(Y))\n",
    "l1 = rr.l1norm(X.shape[1], lagrange=1)\n",
    "l2s = l2.smoothed(rr.identity_quadratic(1.e-12,0,0,0))\n",
    "problem = rr.simple_problem(l2s, l1)"
   ]
  },
  {
   "cell_type": "code",
   "execution_count": null,
   "metadata": {
    "collapsed": false
   },
   "outputs": [],
   "source": [
    "primal_nesta, dual_nesta = rr.nesta(None, l1, l2)\n",
    "np.linalg.norm(Y - np.dot(X, primal_nesta)) / np.linalg.norm(Y)"
   ]
  },
  {
   "cell_type": "code",
   "execution_count": null,
   "metadata": {
    "collapsed": false
   },
   "outputs": [],
   "source": [
    "l1_lagrange = rr.l1norm(X.shape[1],lagrange=np.fabs(primal_nesta).sum())\n",
    "loss = rr.squared_error(X,Y, coef=2)\n",
    "newsoln = rr.simple_problem(loss, l1_lagrange).solve()\n",
    "np.linalg.norm(Y - np.dot(X,newsoln)) / np.linalg.norm(Y)"
   ]
  },
  {
   "cell_type": "code",
   "execution_count": null,
   "metadata": {
    "collapsed": false
   },
   "outputs": [],
   "source": [
    "transform, atom = l2.dual\n",
    "primal_tfocs, dual_tfocs = rr.tfocs(l1, transform, atom)\n",
    "np.linalg.norm(Y - np.dot(X, primal_tfocs)) / np.linalg.norm(Y)"
   ]
  },
  {
   "cell_type": "code",
   "execution_count": null,
   "metadata": {
    "collapsed": false
   },
   "outputs": [],
   "source": [
    "%timeit primal_tfocs, dual_tfocs = rr.tfocs(l1, transform, atom)"
   ]
  },
  {
   "cell_type": "code",
   "execution_count": null,
   "metadata": {
    "collapsed": false
   },
   "outputs": [],
   "source": [
    "%timeit primal_nesta, dual_nesta = rr.nesta(None, l1, l2)"
   ]
  },
  {
   "cell_type": "code",
   "execution_count": null,
   "metadata": {
    "collapsed": false
   },
   "outputs": [],
   "source": [
    "np.linalg.norm(primal_tfocs - primal_nesta) / (1+np.linalg.norm(primal_nesta))\n"
   ]
  },
  {
   "cell_type": "code",
   "execution_count": null,
   "metadata": {
    "collapsed": false
   },
   "outputs": [],
   "source": [
    "np.linalg.norm(dual_tfocs - dual_nesta) / (1+np.linalg.norm(dual_nesta))"
   ]
  },
  {
   "cell_type": "markdown",
   "metadata": {},
   "source": [
    "## Noiseless case: minimimum L1 norm reconstruction"
   ]
  },
  {
   "cell_type": "code",
   "execution_count": null,
   "metadata": {
    "collapsed": false
   },
   "outputs": [],
   "source": [
    "n, p = 200, 5000\n",
    "X = np.random.standard_normal((n, p))\n",
    "l1 = rr.l1norm(p, lagrange=1)\n",
    "beta = np.zeros(p)\n",
    "beta[:10] = 10\n",
    "Y = np.dot(X, beta)\n",
    "\n",
    "constraint = rr.zero_constraint.affine(X,-Y)\n",
    "transform, atom = constraint.dual\n",
    "primal_tfocs, dual_tfocs = rr.tfocs(l1, transform, atom)\n",
    "\n",
    "\n"
   ]
  },
  {
   "cell_type": "code",
   "execution_count": null,
   "metadata": {
    "collapsed": false
   },
   "outputs": [],
   "source": [
    "np.linalg.norm(Y - np.dot(X, primal_tfocs)) / np.linalg.norm(Y)\n"
   ]
  },
  {
   "cell_type": "code",
   "execution_count": null,
   "metadata": {
    "collapsed": false
   },
   "outputs": [],
   "source": []
  },
  {
   "cell_type": "code",
   "execution_count": null,
   "metadata": {
    "collapsed": false
   },
   "outputs": [],
   "source": [
    "primal_tfocs[:20]"
   ]
  },
  {
   "cell_type": "code",
   "execution_count": null,
   "metadata": {
    "collapsed": false
   },
   "outputs": [],
   "source": []
  },
  {
   "cell_type": "code",
   "execution_count": null,
   "metadata": {
    "collapsed": true
   },
   "outputs": [],
   "source": []
  }
 ],
 "metadata": {
  "kernelspec": {
   "display_name": "Python 2",
   "language": "python",
   "name": "python2"
  },
  "language_info": {
   "codemirror_mode": {
    "name": "ipython",
    "version": 2
   },
   "file_extension": ".py",
   "mimetype": "text/x-python",
   "name": "python",
   "nbconvert_exporter": "python",
   "pygments_lexer": "ipython2",
   "version": "2.7.11"
  }
 },
 "nbformat": 4,
 "nbformat_minor": 0
}
