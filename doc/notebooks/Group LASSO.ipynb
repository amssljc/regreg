{
 "cells": [
  {
   "cell_type": "markdown",
   "metadata": {},
   "source": [
    "# The group LASSO for least squares"
   ]
  },
  {
   "cell_type": "markdown",
   "metadata": {},
   "source": [
    "This notebook provides some ways to solve the group LASSO problem\n",
    "$$\n",
    "\\frac{1}{2} \\|Y-X\\beta\\|^2_2 + \\lambda \\sum_i \\|\\beta[g_i]\\|_2\n",
    "$$\n",
    "where $g_i$ are pairwise distinct subsets of $\\{1, \\dots, p\\}$.\n"
   ]
  },
  {
   "cell_type": "code",
   "execution_count": null,
   "metadata": {
    "collapsed": false
   },
   "outputs": [],
   "source": [
    "# third party imports\n",
    "import numpy as np\n",
    "import pylab\n",
    "from scipy import sparse\n",
    "%pylab inline\n",
    "# the regreg import\n",
    "import regreg.api as rr"
   ]
  },
  {
   "cell_type": "markdown",
   "metadata": {},
   "source": [
    "\n",
    "We will use the CGH data from the R package cghFLasso. You will have to have installed the package 'cghFLasso' in R, as well as installed rpy2.\n",
    "\n"
   ]
  },
  {
   "cell_type": "code",
   "execution_count": null,
   "metadata": {
    "collapsed": false
   },
   "outputs": [],
   "source": [
    "import rpy2.robjects as ri\n",
    "ri.r(''' \n",
    "library(gglasso)\n",
    "data(bardet)\n",
    "group1 = rep(1:20,each=5)\n",
    "Y = bardet$y\n",
    "X = matrix(rnorm(120*100), 120, 100) # bardet$x\n",
    "gg1 = gglasso(x=X,y=Y,group=group1,loss=\"ls\")\n",
    "B = gg1$beta\n",
    "L = gg1$lambda\n",
    "DF = gg1$df\n",
    "''')\n",
    "B = np.array(ri.r(\"B\"))\n",
    "DF = np.array(ri.r(\"DF\"))\n",
    "L = np.array(ri.r(\"L\"))\n",
    "Y = np.array(ri.r('Y')); Y -= Y.mean()\n",
    "X = np.array(ri.r('X')); X -= X.mean(0)[np.newaxis,:]\n",
    "n, p = X.shape\n",
    "loss = rr.squared_error(X, Y, coef=1./n)\n",
    "print X.shape, Y.shape"
   ]
  },
  {
   "cell_type": "code",
   "execution_count": null,
   "metadata": {
    "collapsed": false
   },
   "outputs": [],
   "source": [
    "groups = []\n",
    "for i in range(20):\n",
    "    groups.extend([i]*5)\n",
    "penalty = rr.group_lasso(groups, lagrange=L.max())"
   ]
  },
  {
   "cell_type": "markdown",
   "metadata": {},
   "source": [
    "It is useful to have a global Lipschitz constant to start the algorithm so the backtracking step\n",
    " does not have a long search. For least squares we can take\n",
    "\n",
    "$$\n",
    "\\|\\nabla {\\mathcal L}\\|_{\\mathrm{Lip}} = \\frac{1}{n}\\|X\\|_{\\mathrm{op}}^2\n",
    "$$"
   ]
  },
  {
   "cell_type": "code",
   "execution_count": null,
   "metadata": {
    "collapsed": true
   },
   "outputs": [],
   "source": [
    "lipschitz = rr.power_L(X)**2 / n"
   ]
  },
  {
   "cell_type": "markdown",
   "metadata": {},
   "source": [
    "We are all set to specify the problem and solve it. This is a \"simple\" problem in that its proximal\n",
    " operator is separable. It can be specified with the \"simple_problem\" class."
   ]
  },
  {
   "cell_type": "code",
   "execution_count": null,
   "metadata": {
    "collapsed": false
   },
   "outputs": [],
   "source": [
    "print loss.shape, penalty.shape\n",
    "problem = rr.simple_problem(loss, penalty)\n",
    "coefs = problem.solve(tol=1.e-12, min_its=400)\n",
    "print coefs[groups[0]]\n"
   ]
  },
  {
   "cell_type": "markdown",
   "metadata": {},
   "source": [
    "The problem could also be solved by a straightforward generalized gradient algorithm that does no backtracking. This generally does not work as well because the global Lipschitz constant is much larger than it has to be. To be fair \n",
    "to FISTA, we will set the penalty.coefs to 0, as these are currently saved at the current solution. The gengrad class uses a stopping rule based on change in the objective value unless the optional argument \"coef_stop\" is True. \n"
   ]
  },
  {
   "cell_type": "markdown",
   "metadata": {},
   "source": [
    "## Constructing a path of solutions (not using strong rules)"
   ]
  },
  {
   "cell_type": "code",
   "execution_count": null,
   "metadata": {
    "collapsed": false
   },
   "outputs": [],
   "source": [
    "score0 = loss.smooth_objective(np.zeros(100), mode='grad')\n",
    "dual_penalty = rr.group_lasso_dual(groups, lagrange=1.)\n",
    "lagrange_max = dual_penalty.seminorm(score0)\n",
    "lagrange_seq = lagrange_max * np.exp(np.linspace(np.log(0.001), 0, 100))[::-1][DF < 110]"
   ]
  },
  {
   "cell_type": "code",
   "execution_count": null,
   "metadata": {
    "collapsed": false
   },
   "outputs": [],
   "source": [
    "%%timeit\n",
    "problem = rr.simple_problem(loss, penalty)\n",
    "penalty.lagrange = lagrange_max\n",
    "solns = [problem.solve(tol=1.e-7, min_its=20)]\n",
    "final_step = problem.final_step\n",
    "for iterct, lagrange in enumerate(lagrange_seq[1:]):\n",
    "    penalty.lagrange = lagrange\n",
    "    solns.append(problem.solve(start_step=final_step, tol=1.e-10).copy())\n",
    "    final_step = problem.final_step"
   ]
  },
  {
   "cell_type": "code",
   "execution_count": null,
   "metadata": {
    "collapsed": false
   },
   "outputs": [],
   "source": [
    "%%timeit\n",
    "ri.r('gg1 = gglasso(x=X,y=Y,group=group1,loss=\"ls\")')"
   ]
  },
  {
   "cell_type": "code",
   "execution_count": null,
   "metadata": {
    "collapsed": false
   },
   "outputs": [],
   "source": [
    "problem = rr.simple_problem(loss, penalty)\n",
    "penalty.lagrange = lagrange_max\n",
    "solns = [problem.solve(tol=1.e-7, min_its=20)]\n",
    "final_step = problem.final_step\n",
    "for iterct, lagrange in enumerate(lagrange_seq[1:]):\n",
    "    penalty.lagrange = lagrange\n",
    "    solns.append(problem.solve(start_step=final_step, tol=1.e-10).copy())\n",
    "    final_step = problem.final_step\n",
    "solns = np.array(solns)\n",
    "a = [plt.plot(np.log(lagrange_seq), solns[:,i]) for i in range(100)]\n",
    "#plt.gca().set_ylim([-0.5,0.5])"
   ]
  },
  {
   "cell_type": "code",
   "execution_count": null,
   "metadata": {
    "collapsed": false
   },
   "outputs": [],
   "source": [
    "b = [pylab.plot(np.log(lagrange_seq), B[i][DF < 110]) for i in range(100)];\n",
    "#plt.gca().set_ylim([-0.5,0.5])"
   ]
  },
  {
   "cell_type": "code",
   "execution_count": null,
   "metadata": {
    "collapsed": false
   },
   "outputs": [],
   "source": [
    "B.shape"
   ]
  },
  {
   "cell_type": "code",
   "execution_count": null,
   "metadata": {
    "collapsed": false
   },
   "outputs": [],
   "source": [
    "obj_vals = []\n",
    "for i, lagrange in enumerate(lagrange_seq):\n",
    "    penalty.lagrange = lagrange\n",
    "    val1 = problem.objective(B[:,i])\n",
    "    val2 = problem.objective(solns[i])\n",
    "    obj_vals.append((val1, val2, val1 - val2))\n",
    "obj_vals = np.array(obj_vals)\n",
    "plt.plot(obj_vals[:,0], label='gglasso')\n",
    "plt.plot(obj_vals[:,1])\n",
    "plt.legend()\n",
    "plt.figure()\n",
    "plt.plot(obj_vals[:,2])"
   ]
  },
  {
   "cell_type": "code",
   "execution_count": null,
   "metadata": {
    "collapsed": false
   },
   "outputs": [],
   "source": [
    "LS = np.linalg.pinv(X).dot(Y)\n",
    "LS.min(), LS.max()"
   ]
  },
  {
   "cell_type": "code",
   "execution_count": null,
   "metadata": {
    "collapsed": false
   },
   "outputs": [],
   "source": [
    "penalty.lagrange=lagrange_seq[-1]\n",
    "B0 = problem.solve(min_its=10000)\n",
    "B0.min(), B0.max()"
   ]
  },
  {
   "cell_type": "code",
   "execution_count": null,
   "metadata": {
    "collapsed": false
   },
   "outputs": [],
   "source": [
    "np.linalg.norm(B0 - solns[-1]), np.linalg.norm(B0 - B[:,-1])"
   ]
  },
  {
   "cell_type": "code",
   "execution_count": null,
   "metadata": {
    "collapsed": false
   },
   "outputs": [],
   "source": [
    "problem.objective(B0), problem.objective(solns[-1]), problem.objective(B[:,-1])"
   ]
  },
  {
   "cell_type": "code",
   "execution_count": null,
   "metadata": {
    "collapsed": true
   },
   "outputs": [],
   "source": []
  }
 ],
 "metadata": {
  "kernelspec": {
   "display_name": "Python 2",
   "language": "python",
   "name": "python2"
  },
  "language_info": {
   "codemirror_mode": {
    "name": "ipython",
    "version": 2
   },
   "file_extension": ".py",
   "mimetype": "text/x-python",
   "name": "python",
   "nbconvert_exporter": "python",
   "pygments_lexer": "ipython2",
   "version": "2.7.11"
  }
 },
 "nbformat": 4,
 "nbformat_minor": 0
}
