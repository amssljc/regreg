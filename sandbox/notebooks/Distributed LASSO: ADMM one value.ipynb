{
 "metadata": {
  "name": "Distributed LASSO: ADMM one value"
 },
 "nbformat": 3,
 "worksheets": [
  {
   "cells": [
    {
     "cell_type": "markdown",
     "source": [
      "",
      "",
      "From http://www.stanford.edu/~boyd/papers/pdf/admm_distr_stats.pdf.",
      "Specifically, on p. 70 $\\S$ 8.1.3, making the substitutions",
      "$x_i=\\beta_i, z_i=\\mu_i$.",
      "",
      "",
      "$$",
      "   \\newcommand{\\argmin}{\\mathop{argmin}}",
      "   \\begin{aligned}",
      "   \\beta_i^{k+1} &= \\argmin_{\\beta_i} \\left(\\frac{\\rho}{2} \\|X_i\\beta_i-X_i\\beta_i^k - \\bar{\\mu}^k + \\bar{X\\beta}^k + u^k\\|^2_2 + \\lambda\\|\\beta_i\\|_1 \\right) \\\\\\",
      "   \\bar{\\mu}^{k+1} &= \\frac{1}{N+\\rho} \\left(y + \\rho \\bar{X\\beta}^k + \\rho u^k\\right) \\\\\\",
      "   u^{k+1} &= u^k + \\bar{X\\beta}^k - \\bar{\\mu}^{k+1}",
      "   \\end{aligned}",
      "$$"
     ]
    },
    {
     "cell_type": "code",
     "input": [
      "%load_ext parallelmagic",
      "from IPython.parallel import Client",
      "rc = Client()",
      "dview = rc[:]",
      "dview.activate()",
      "dview.block = True"
     ],
     "language": "python",
     "outputs": [],
     "prompt_number": 56
    },
    {
     "cell_type": "code",
     "input": [
      "%%px",
      "import os.path",
      "",
      "import regreg.api as R; reload(R)",
      "import regreg.paths as RP; reload(RP)",
      "import numpy as np",
      "",
      "import scipy.io, scipy.sparse",
      "",
      "# np.random.seed(1)  # for debugging",
      "",
      "class loss_factory(RP.squared_error_factory):",
      "    ",
      "    def __init__(self, response, rho=1.):",
      "        RP.squared_error_factory.__init__(self, response)",
      "        self.rho = rho",
      "   ",
      "    def __call__(self, X):",
      "        n = self.response.shape[0]",
      "        return R.squared_error(X, -self.response, coef=self.rho/n)",
      "",
      "# subclass specific to this dataset",
      "class newsgroup_factory(loss_factory):",
      "    ",
      "    def __init__(self, newsgroup_path, rows, columns, rho=1.):",
      "        # can we read the newsgroup.mat on all nodes at once?",
      "        D = scipy.io.loadmat(os.path.join(newsgroup_path, 'newsgroup.mat'))",
      "        X = D['X'][rows].tocsc(); Y = D['Y'].reshape(-1)[rows] ",
      "        self.rows = rows",
      "        self.X = X[:,columns]",
      "        n, p = X.shape",
      "        self.X1 = scipy.sparse.hstack([np.ones((n, 1)), self.X])",
      "        self.Xn = R.normalize(self.X1, intercept_column=0, scale=False)",
      "        self.columns = columns",
      "        self.selector = R.selector(columns, X.shape[1])",
      "        loss_factory.__init__(self, Y, rho)",
      "        ",
      "    def fitted(self, solution):",
      "        return self.Xn.linear_map(solution)",
      "        # the code below is what is needed for a sequence of lagrange parameters",
      "        #solution = solution.tocsr()",
      "        #intercept = np.array(solution[0].todense()).reshape(-1)",
      "        #return np.array((self.X * solution[1:]).todense()) + intercept[np.newaxis, :]",
      "    ",
      "    def beta(self, solution):",
      "        return self.selector.adjoint_map(solution)"
     ],
     "language": "python",
     "outputs": [
      {
       "output_type": "stream",
       "stream": "stdout",
       "text": [
        "Parallel execution on engine(s): [0, 1, 2, 3]",
        ""
       ]
      }
     ],
     "prompt_number": 57
    },
    {
     "cell_type": "markdown",
     "source": [
      "Get ready to instantiate each node.",
      ""
     ]
    },
    {
     "cell_type": "code",
     "input": [
      "import numpy as np, scipy.io, os.path, regreg.api as R",
      "newsgroup_path = '/Users/jonathantaylor/Documents/work/regreg/doc/notebooks/'",
      "D = scipy.io.loadmat(os.path.join(newsgroup_path, 'newsgroup.mat'))",
      "n, p = D['X'].shape;",
      "columns = np.arange(p)",
      "np.random.shuffle(columns)",
      "rows = np.arange(n)",
      "np.random.shuffle(rows)",
      "rows_subsampled = rows[:5000]",
      "columns_subsampled = columns[:1000]",
      "dview.scatter('columns', columns_subsampled)",
      "dview.push({'rows':rows_subsampled})",
      "rho = 1.",
      "dview.push({'rho':rho})",
      "",
      "@dview.remote(block=True)",
      "def init_nodes(lagrange, newsgroup_path, rows):",
      "    global loss, problem, fitted, factory, penalty",
      "    factory = newsgroup_factory(newsgroup_path, rows, columns, rho=rho)",
      "    loss = R.squared_error(factory.Xn, factory.response)",
      "    penalty = R.l1norm(factory.Xn.primal_shape, lagrange=lagrange)",
      "    problem = R.simple_problem(loss, penalty)",
      "    fitted = np.zeros(factory.response.shape[0])",
      "    ",
      "X = D['X'][rows_subsampled].tocsc(); Y = D['Y'].reshape(-1)[rows_subsampled] ",
      "master_lasso = R.lasso.squared_error(X, Y)",
      "",
      "objective = master_lasso.problem.objective",
      "",
      "    "
     ],
     "language": "python",
     "outputs": [],
     "prompt_number": 58
    },
    {
     "cell_type": "code",
     "input": [
      "try:",
      "    init_nodes(master_lasso.lagrange_sequence[2], newsgroup_path, rows_subsampled)",
      "except CompositeError, e:",
      "    e.raise_exception()",
      ""
     ],
     "language": "python",
     "outputs": [],
     "prompt_number": 59
    },
    {
     "cell_type": "markdown",
     "source": [
      "Each node will have a copy of its own fitted values $X_i\\beta_i^k$ stored as `fitted`. The",
      "response for the next update is ",
      "$$",
      "X_i\\beta_i^k + \\bar{\\mu}^k - \\bar{X\\beta}^k - u^k",
      "$$",
      "",
      "The variable `pseudo_response` is sent from the master node and is equal to ",
      "$$",
      "\\bar{\\mu}^k - \\bar{X\\beta}^k - u^k.",
      "$$",
      "",
      "The function `update_global_variables` takes care of the updates",
      "$$",
      "   \\newcommand{\\argmin}{\\mathop{argmin}}",
      "   \\begin{aligned}",
      "   \\bar{\\mu}^{k+1} &= \\frac{1}{N+\\rho} \\left(y + \\rho \\bar{X\\beta}^k + \\rho u^k\\right) \\\\\\",
      "   u^{k+1} &= u^k + \\bar{X\\beta}^k - \\bar{\\mu}^{k+1}",
      "   \\end{aligned}",
      "$$"
     ]
    },
    {
     "cell_type": "code",
     "input": [
      "def update_global_variables(lasso_fits, y, u, rho=1.):",
      "    # this is a reduction operation",
      "    Xbeta_bar = np.mean(lasso_fits, 0)",
      "",
      "    N = len(lasso_fits)",
      "    mu_bar = (y + rho * (Xbeta_bar + u)) / (N + rho)",
      "    u = u + Xbeta_bar - mu_bar",
      "    return Xbeta_bar, mu_bar, u"
     ],
     "language": "python",
     "outputs": [],
     "prompt_number": 60
    },
    {
     "cell_type": "markdown",
     "source": [
      "The master must pass the `pseudo_response` to the nodes, which gets added to the local",
      "fitted values and becomes the new response for the node's `lasso` instance."
     ]
    },
    {
     "cell_type": "code",
     "input": [
      "@dview.remote()",
      "def update_lasso_nodes(pseudo_response):",
      "    global coefs, problem",
      "    coefs = problem.solve()",
      "    fitted[:] = factory.fitted(coefs)",
      "    factory.response = fitted + pseudo_response",
      "    loss = R.squared_error(factory.Xn, factory.response)",
      "    problem = R.simple_problem(loss, penalty)",
      "    return fitted",
      "",
      "@dview.remote()",
      "def get_beta():",
      "    return factory.beta(coefs)",
      "",
      "pseudo_response = np.zeros_like(rows_subsampled)",
      "u = np.zeros(pseudo_response.shape)",
      "lasso_fits = np.zeros((len(rc.ids), pseudo_response.shape[0]))"
     ],
     "language": "python",
     "outputs": [],
     "prompt_number": 61
    },
    {
     "cell_type": "code",
     "input": [
      "",
      "Xbeta_bar, mu_bar, u = update_global_variables(lasso_fits, Y, u, rho)",
      "lasso_fits = update_lasso_nodes(mu_bar - Xbeta_bar - u)",
      "",
      "    ",
      "Xbeta_bar, mu_bar, u = update_global_variables(lasso_fits, Y, u, rho)",
      "beta = np.array(get_beta()).sum(0)",
      "print beta.shape",
      "new_obj = objective(beta)",
      "print new_obj",
      "#if np.fabs(old_obj-new_obj) / np.fabs(new_obj) < tol:",
      "#    break",
      "",
      "#a = get_beta()",
      "#print [aa.shape for aa in a]"
     ],
     "language": "python",
     "outputs": [
      {
       "ename": "ValueError",
       "evalue": "operands could not be broadcast together with shapes (777811) (605454) ",
       "output_type": "pyerr",
       "traceback": [
        "\u001b[0;31m---------------------------------------------------------------------------\u001b[0m\n\u001b[0;31mValueError\u001b[0m                                Traceback (most recent call last)",
        "\u001b[0;32m<ipython-input-70-a117bc9232bf>\u001b[0m in \u001b[0;36m<module>\u001b[0;34m()\u001b[0m\n\u001b[1;32m      7\u001b[0m \u001b[0mbeta\u001b[0m \u001b[0;34m=\u001b[0m \u001b[0mnp\u001b[0m\u001b[0;34m.\u001b[0m\u001b[0marray\u001b[0m\u001b[0;34m(\u001b[0m\u001b[0mget_beta\u001b[0m\u001b[0;34m(\u001b[0m\u001b[0;34m)\u001b[0m\u001b[0;34m)\u001b[0m\u001b[0;34m.\u001b[0m\u001b[0msum\u001b[0m\u001b[0;34m(\u001b[0m\u001b[0;36m0\u001b[0m\u001b[0;34m)\u001b[0m\u001b[0;34m\u001b[0m\u001b[0m\n\u001b[1;32m      8\u001b[0m \u001b[0;32mprint\u001b[0m \u001b[0mbeta\u001b[0m\u001b[0;34m.\u001b[0m\u001b[0mshape\u001b[0m\u001b[0;34m\u001b[0m\u001b[0m\n\u001b[0;32m----> 9\u001b[0;31m \u001b[0mnew_obj\u001b[0m \u001b[0;34m=\u001b[0m \u001b[0mobjective\u001b[0m\u001b[0;34m(\u001b[0m\u001b[0mbeta\u001b[0m\u001b[0;34m)\u001b[0m\u001b[0;34m\u001b[0m\u001b[0m\n\u001b[0m\u001b[1;32m     10\u001b[0m \u001b[0;32mprint\u001b[0m \u001b[0mnew_obj\u001b[0m\u001b[0;34m\u001b[0m\u001b[0m\n\u001b[1;32m     11\u001b[0m \u001b[0;31m#if np.fabs(old_obj-new_obj) / np.fabs(new_obj) < tol:\u001b[0m\u001b[0;34m\u001b[0m\u001b[0;34m\u001b[0m\u001b[0m\n",
        "\u001b[0;32m/Users/jonathantaylor/Documents/work/regreg/code/regreg/composite.pyc\u001b[0m in \u001b[0;36mobjective\u001b[0;34m(self, x, check_feasibility)\u001b[0m\n\u001b[1;32m     66\u001b[0m \u001b[0;34m\u001b[0m\u001b[0m\n\u001b[1;32m     67\u001b[0m     \u001b[0;32mdef\u001b[0m \u001b[0mobjective\u001b[0m\u001b[0;34m(\u001b[0m\u001b[0mself\u001b[0m\u001b[0;34m,\u001b[0m \u001b[0mx\u001b[0m\u001b[0;34m,\u001b[0m \u001b[0mcheck_feasibility\u001b[0m\u001b[0;34m=\u001b[0m\u001b[0mFalse\u001b[0m\u001b[0;34m)\u001b[0m\u001b[0;34m:\u001b[0m\u001b[0;34m\u001b[0m\u001b[0m\n\u001b[0;32m---> 68\u001b[0;31m         \u001b[0;32mreturn\u001b[0m \u001b[0mself\u001b[0m\u001b[0;34m.\u001b[0m\u001b[0msmooth_objective\u001b[0m\u001b[0;34m(\u001b[0m\u001b[0mx\u001b[0m\u001b[0;34m,\u001b[0m\u001b[0mmode\u001b[0m\u001b[0;34m=\u001b[0m\u001b[0;34m'func'\u001b[0m\u001b[0;34m,\u001b[0m \u001b[0mcheck_feasibility\u001b[0m\u001b[0;34m=\u001b[0m\u001b[0mcheck_feasibility\u001b[0m\u001b[0;34m)\u001b[0m \u001b[0;34m+\u001b[0m \u001b[0mself\u001b[0m\u001b[0;34m.\u001b[0m\u001b[0mnonsmooth_objective\u001b[0m\u001b[0;34m(\u001b[0m\u001b[0mx\u001b[0m\u001b[0;34m,\u001b[0m \u001b[0mcheck_feasibility\u001b[0m\u001b[0;34m=\u001b[0m\u001b[0mcheck_feasibility\u001b[0m\u001b[0;34m)\u001b[0m\u001b[0;34m\u001b[0m\u001b[0m\n\u001b[0m\u001b[1;32m     69\u001b[0m \u001b[0;34m\u001b[0m\u001b[0m\n\u001b[1;32m     70\u001b[0m     \u001b[0;32mdef\u001b[0m \u001b[0mproximal_optimum\u001b[0m\u001b[0;34m(\u001b[0m\u001b[0mself\u001b[0m\u001b[0;34m,\u001b[0m \u001b[0mquadratic\u001b[0m\u001b[0;34m)\u001b[0m\u001b[0;34m:\u001b[0m\u001b[0;34m\u001b[0m\u001b[0m\n",
        "\u001b[0;32m/Users/jonathantaylor/Documents/work/regreg/code/regreg/simple.pyc\u001b[0m in \u001b[0;36msmooth_objective\u001b[0;34m(self, x, mode, check_feasibility)\u001b[0m\n\u001b[1;32m     26\u001b[0m         \u001b[0mthe\u001b[0m \u001b[0mnonsmooth_atom\u001b[0m \u001b[0mhas\u001b[0m \u001b[0;36m0\u001b[0m \u001b[0;32mfor\u001b[0m \u001b[0msmooth_objective\u001b[0m\u001b[0;34m.\u001b[0m\u001b[0;34m\u001b[0m\u001b[0m\n\u001b[1;32m     27\u001b[0m         \"\"\"\n\u001b[0;32m---> 28\u001b[0;31m         \u001b[0mvs\u001b[0m \u001b[0;34m=\u001b[0m \u001b[0mself\u001b[0m\u001b[0;34m.\u001b[0m\u001b[0msmooth_atom\u001b[0m\u001b[0;34m.\u001b[0m\u001b[0msmooth_objective\u001b[0m\u001b[0;34m(\u001b[0m\u001b[0mx\u001b[0m\u001b[0;34m,\u001b[0m \u001b[0mmode\u001b[0m\u001b[0;34m,\u001b[0m \u001b[0mcheck_feasibility\u001b[0m\u001b[0;34m)\u001b[0m\u001b[0;34m\u001b[0m\u001b[0m\n\u001b[0m\u001b[1;32m     29\u001b[0m         \u001b[0;32mreturn\u001b[0m \u001b[0mvs\u001b[0m\u001b[0;34m\u001b[0m\u001b[0m\n\u001b[1;32m     30\u001b[0m \u001b[0;34m\u001b[0m\u001b[0m\n",
        "\u001b[0;32m/Users/jonathantaylor/Documents/work/regreg/code/regreg/smooth.pyc\u001b[0m in \u001b[0;36msmooth_objective\u001b[0;34m(self, x, mode, check_feasibility)\u001b[0m\n\u001b[1;32m    136\u001b[0m \u001b[0;34m\u001b[0m\u001b[0m\n\u001b[1;32m    137\u001b[0m     \u001b[0;32mdef\u001b[0m \u001b[0msmooth_objective\u001b[0m\u001b[0;34m(\u001b[0m\u001b[0mself\u001b[0m\u001b[0;34m,\u001b[0m \u001b[0mx\u001b[0m\u001b[0;34m,\u001b[0m \u001b[0mmode\u001b[0m\u001b[0;34m=\u001b[0m\u001b[0;34m'both'\u001b[0m\u001b[0;34m,\u001b[0m \u001b[0mcheck_feasibility\u001b[0m\u001b[0;34m=\u001b[0m\u001b[0mFalse\u001b[0m\u001b[0;34m)\u001b[0m\u001b[0;34m:\u001b[0m\u001b[0;34m\u001b[0m\u001b[0m\n\u001b[0;32m--> 138\u001b[0;31m         \u001b[0meta\u001b[0m \u001b[0;34m=\u001b[0m \u001b[0mself\u001b[0m\u001b[0;34m.\u001b[0m\u001b[0maffine_transform\u001b[0m\u001b[0;34m.\u001b[0m\u001b[0maffine_map\u001b[0m\u001b[0;34m(\u001b[0m\u001b[0mx\u001b[0m\u001b[0;34m)\u001b[0m\u001b[0;34m\u001b[0m\u001b[0m\n\u001b[0m\u001b[1;32m    139\u001b[0m         \u001b[0;32mif\u001b[0m \u001b[0mmode\u001b[0m \u001b[0;34m==\u001b[0m \u001b[0;34m'both'\u001b[0m\u001b[0;34m:\u001b[0m\u001b[0;34m\u001b[0m\u001b[0m\n\u001b[1;32m    140\u001b[0m             \u001b[0mv\u001b[0m\u001b[0;34m,\u001b[0m \u001b[0mg\u001b[0m \u001b[0;34m=\u001b[0m \u001b[0mself\u001b[0m\u001b[0;34m.\u001b[0m\u001b[0msm_atom\u001b[0m\u001b[0;34m.\u001b[0m\u001b[0msmooth_objective\u001b[0m\u001b[0;34m(\u001b[0m\u001b[0meta\u001b[0m\u001b[0;34m,\u001b[0m \u001b[0mmode\u001b[0m\u001b[0;34m=\u001b[0m\u001b[0;34m'both'\u001b[0m\u001b[0;34m)\u001b[0m\u001b[0;34m\u001b[0m\u001b[0m\n",
        "\u001b[0;32m/Users/jonathantaylor/Documents/work/regreg/code/regreg/affine.pyc\u001b[0m in \u001b[0;36maffine_map\u001b[0;34m(self, x, copy)\u001b[0m\n\u001b[1;32m    184\u001b[0m         \"\"\"\n\u001b[1;32m    185\u001b[0m         \u001b[0;32mif\u001b[0m \u001b[0mself\u001b[0m\u001b[0;34m.\u001b[0m\u001b[0maffineD\u001b[0m\u001b[0;34m:\u001b[0m\u001b[0;34m\u001b[0m\u001b[0m\n\u001b[0;32m--> 186\u001b[0;31m             \u001b[0mv\u001b[0m \u001b[0;34m=\u001b[0m \u001b[0mself\u001b[0m\u001b[0;34m.\u001b[0m\u001b[0mlinear_operator\u001b[0m\u001b[0;34m.\u001b[0m\u001b[0maffine_map\u001b[0m\u001b[0;34m(\u001b[0m\u001b[0mx\u001b[0m\u001b[0;34m)\u001b[0m\u001b[0;34m\u001b[0m\u001b[0m\n\u001b[0m\u001b[1;32m    187\u001b[0m         \u001b[0;32melse\u001b[0m\u001b[0;34m:\u001b[0m\u001b[0;34m\u001b[0m\u001b[0m\n\u001b[1;32m    188\u001b[0m             \u001b[0mv\u001b[0m \u001b[0;34m=\u001b[0m \u001b[0mself\u001b[0m\u001b[0;34m.\u001b[0m\u001b[0mlinear_map\u001b[0m\u001b[0;34m(\u001b[0m\u001b[0mx\u001b[0m\u001b[0;34m,\u001b[0m \u001b[0mcopy\u001b[0m\u001b[0;34m)\u001b[0m\u001b[0;34m\u001b[0m\u001b[0m\n",
        "\u001b[0;32m/Users/jonathantaylor/Documents/work/regreg/code/regreg/affine.pyc\u001b[0m in \u001b[0;36maffine_map\u001b[0;34m(self, x)\u001b[0m\n\u001b[1;32m    509\u001b[0m \u001b[0;34m\u001b[0m\u001b[0m\n\u001b[1;32m    510\u001b[0m     \u001b[0;32mdef\u001b[0m \u001b[0maffine_map\u001b[0m\u001b[0;34m(\u001b[0m\u001b[0mself\u001b[0m\u001b[0;34m,\u001b[0m \u001b[0mx\u001b[0m\u001b[0;34m)\u001b[0m\u001b[0;34m:\u001b[0m\u001b[0;34m\u001b[0m\u001b[0m\n\u001b[0;32m--> 511\u001b[0;31m         \u001b[0;32mreturn\u001b[0m \u001b[0mself\u001b[0m\u001b[0;34m.\u001b[0m\u001b[0mlinear_map\u001b[0m\u001b[0;34m(\u001b[0m\u001b[0mx\u001b[0m\u001b[0;34m)\u001b[0m\u001b[0;34m\u001b[0m\u001b[0m\n\u001b[0m\u001b[1;32m    512\u001b[0m \u001b[0;34m\u001b[0m\u001b[0m\n\u001b[1;32m    513\u001b[0m     \u001b[0;32mdef\u001b[0m \u001b[0moffset_map\u001b[0m\u001b[0;34m(\u001b[0m\u001b[0mself\u001b[0m\u001b[0;34m,\u001b[0m \u001b[0mx\u001b[0m\u001b[0;34m)\u001b[0m\u001b[0;34m:\u001b[0m\u001b[0;34m\u001b[0m\u001b[0m\n",
        "\u001b[0;32m/Users/jonathantaylor/Documents/work/regreg/code/regreg/affine.pyc\u001b[0m in \u001b[0;36mlinear_map\u001b[0;34m(self, x)\u001b[0m\n\u001b[1;32m    478\u001b[0m         \u001b[0;32mif\u001b[0m \u001b[0mself\u001b[0m\u001b[0;34m.\u001b[0m\u001b[0mscale\u001b[0m\u001b[0;34m:\u001b[0m\u001b[0;34m\u001b[0m\u001b[0m\n\u001b[1;32m    479\u001b[0m             \u001b[0;32mif\u001b[0m \u001b[0mx\u001b[0m\u001b[0;34m.\u001b[0m\u001b[0mndim\u001b[0m \u001b[0;34m==\u001b[0m \u001b[0;36m1\u001b[0m\u001b[0;34m:\u001b[0m\u001b[0;34m\u001b[0m\u001b[0m\n\u001b[0;32m--> 480\u001b[0;31m                 \u001b[0mx\u001b[0m \u001b[0;34m=\u001b[0m \u001b[0mx\u001b[0m \u001b[0;34m/\u001b[0m \u001b[0mself\u001b[0m\u001b[0;34m.\u001b[0m\u001b[0mcol_stds\u001b[0m\u001b[0;34m\u001b[0m\u001b[0m\n\u001b[0m\u001b[1;32m    481\u001b[0m             \u001b[0;32melif\u001b[0m \u001b[0mx\u001b[0m\u001b[0;34m.\u001b[0m\u001b[0mndim\u001b[0m \u001b[0;34m==\u001b[0m \u001b[0;36m2\u001b[0m\u001b[0;34m:\u001b[0m\u001b[0;34m\u001b[0m\u001b[0m\n\u001b[1;32m    482\u001b[0m                 \u001b[0mx\u001b[0m \u001b[0;34m=\u001b[0m \u001b[0mx\u001b[0m \u001b[0;34m/\u001b[0m \u001b[0mself\u001b[0m\u001b[0;34m.\u001b[0m\u001b[0mcol_stds\u001b[0m\u001b[0;34m[\u001b[0m\u001b[0;34m:\u001b[0m\u001b[0;34m,\u001b[0m\u001b[0mnp\u001b[0m\u001b[0;34m.\u001b[0m\u001b[0mnewaxis\u001b[0m\u001b[0;34m]\u001b[0m\u001b[0;34m\u001b[0m\u001b[0m\n",
        "\u001b[0;31mValueError\u001b[0m: operands could not be broadcast together with shapes (777811) (605454) "
       ]
      },
      {
       "output_type": "stream",
       "stream": "stdout",
       "text": [
        "(777811,)",
        ""
       ]
      }
     ],
     "prompt_number": 70
    },
    {
     "cell_type": "code",
     "input": [
      "np.array(beta).shape",
      "beta = np.array(beta)",
      "beta[:,columns_subsampled].shape",
      "np.nonzero(beta[2,columns_subsampled])"
     ],
     "language": "python",
     "outputs": [
      {
       "output_type": "pyout",
       "prompt_number": 63,
       "text": [
        "(array([500, 501, 502, 503, 504, 505, 506, 507, 508, 510, 511, 512, 513,",
        "       514, 515, 516, 517, 518, 519, 520, 521, 522, 523, 526, 529, 531,",
        "       532, 533, 534, 535, 536, 537, 538, 539, 540, 541, 542, 543, 544,",
        "       545, 546, 547, 549, 550, 551, 552, 554, 555, 556, 558, 560, 561,",
        "       562, 563, 564, 565, 566, 569, 572, 574, 575, 576, 577, 578, 580,",
        "       581, 582, 583, 584, 586, 588, 589, 590, 591, 592, 595, 597, 598,",
        "       599, 601, 603, 604, 605, 606, 607, 608, 610, 612, 613, 614, 615,",
        "       616, 617, 618, 619, 621, 622, 623, 624, 625, 627, 628, 629, 630,",
        "       632, 633, 635, 636, 637, 639, 644, 645, 646, 650, 651, 652, 653,",
        "       656, 657, 660, 662, 663, 665, 666, 667, 668, 669, 670, 671, 672,",
        "       673, 674, 675, 676, 678, 679, 681, 683, 684, 685, 689, 690, 691,",
        "       692, 693, 694, 695, 696, 697, 698, 700, 701, 702, 704, 705, 706,",
        "       707, 709, 710, 711, 712, 715, 716, 717, 718, 719, 720, 721, 723,",
        "       724, 725, 726, 727, 728, 729, 731, 732, 734, 737, 738, 740, 741,",
        "       742, 743, 745, 746, 747, 748, 749]),)"
       ]
      }
     ],
     "prompt_number": 63
    },
    {
     "cell_type": "code",
     "input": [
      "%%px",
      "from IPython.parallel import bind_kernel",
      "bind_kernel()",
      "",
      "#from IPython.parallel.error import CompositeError",
      "#try:",
      "#    lasso_fits = update_lasso_nodes(pseudo_response)",
      "#except CompositeError, e:",
      "#    e.raise_exception()",
      "    "
     ],
     "language": "python",
     "outputs": [
      {
       "output_type": "stream",
       "stream": "stdout",
       "text": [
        "Parallel execution on engine(s): [0, 1, 2, 3]",
        ""
       ]
      }
     ],
     "prompt_number": 64
    },
    {
     "cell_type": "code",
     "input": [
      "#%px %qtconsole"
     ],
     "language": "python",
     "outputs": [],
     "prompt_number": 65
    },
    {
     "cell_type": "code",
     "input": [
      "%px %connect_info"
     ],
     "language": "python",
     "outputs": [
      {
       "output_type": "stream",
       "stream": "stdout",
       "text": [
        "Parallel execution on engine(s): [0, 1, 2, 3]",
        "[stdout:0] ",
        "{",
        "  \"stdin_port\": 62472, ",
        "  \"ip\": \"127.0.0.1\", ",
        "  \"hb_port\": 59062, ",
        "  \"key\": \"82b205c6-e746-4db5-b676-8e6b2ecb70bd\", ",
        "  \"shell_port\": 49390, ",
        "  \"iopub_port\": 55287",
        "}",
        "",
        "Paste the above JSON into a file, and connect with:",
        "    $> ipython <app> --existing <file>",
        "or, if you are local, you can connect with just:",
        "    $> ipython <app> --existing kernel-11579.json ",
        "or even just:",
        "    $> ipython <app> --existing ",
        "if this is the most recent IPython session you have started.",
        ""
       ]
      },
      {
       "output_type": "stream",
       "stream": "stdout",
       "text": [
        "[stdout:1] ",
        "{",
        "  \"stdin_port\": 57414, ",
        "  \"ip\": \"127.0.0.1\", ",
        "  \"hb_port\": 59061, ",
        "  \"key\": \"82b205c6-e746-4db5-b676-8e6b2ecb70bd\", ",
        "  \"shell_port\": 52134, ",
        "  \"iopub_port\": 49238",
        "}",
        "",
        "Paste the above JSON into a file, and connect with:",
        "    $> ipython <app> --existing <file>",
        "or, if you are local, you can connect with just:",
        "    $> ipython <app> --existing kernel-11578.json ",
        "or even just:",
        "    $> ipython <app> --existing ",
        "if this is the most recent IPython session you have started.",
        "[stdout:2] ",
        "{",
        "  \"stdin_port\": 62529, ",
        "  \"ip\": \"127.0.0.1\", ",
        "  \"hb_port\": 59059, ",
        "  \"key\": \"82b205c6-e746-4db5-b676-8e6b2ecb70bd\", ",
        "  \"shell_port\": 58871, ",
        "  \"iopub_port\": 56096",
        "}",
        "",
        "Paste the above JSON into a file, and connect with:",
        "    $> ipython <app> --existing <file>",
        "or, if you are local, you can connect with just:",
        "    $> ipython <app> --existing kernel-11580.json ",
        "or even just:",
        "    $> ipython <app> --existing ",
        "if this is the most recent IPython session you have started.",
        "[stdout:3] ",
        "{",
        "  \"stdin_port\": 53837, ",
        "  \"ip\": \"127.0.0.1\", ",
        "  \"hb_port\": 59060, ",
        "  \"key\": \"82b205c6-e746-4db5-b676-8e6b2ecb70bd\", ",
        "  \"shell_port\": 54844, ",
        "  \"iopub_port\": 52770",
        "}",
        "",
        "Paste the above JSON into a file, and connect with:",
        "    $> ipython <app> --existing <file>",
        "or, if you are local, you can connect with just:",
        "    $> ipython <app> --existing kernel-11577.json ",
        "or even just:",
        "    $> ipython <app> --existing ",
        "if this is the most recent IPython session you have started.",
        ""
       ]
      }
     ],
     "prompt_number": 66
    },
    {
     "cell_type": "code",
     "input": [
      ""
     ],
     "language": "python",
     "outputs": [],
     "prompt_number": 66
    }
   ]
  }
 ]
}