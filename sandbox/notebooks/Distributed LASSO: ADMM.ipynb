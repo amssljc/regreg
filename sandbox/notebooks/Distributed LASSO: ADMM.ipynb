{
 "cells": [
  {
   "cell_type": "markdown",
   "metadata": {},
   "source": [
    "\n",
    "\n",
    "From http://www.stanford.edu/~boyd/papers/pdf/admm_distr_stats.pdf.\n",
    "Specifically, on p. 70 $\\S$ 8.1.3, making the substitutions\n",
    "$x_i=\\beta_i, z_i=\\mu_i$.\n",
    "\n",
    "\n",
    "$$\n",
    "   \\newcommand{\\argmin}{\\mathop{argmin}}\n",
    "   \\begin{aligned}\n",
    "   \\beta_i^{k+1} &= \\argmin_{\\beta_i} \\left(\\frac{\\rho}{2} \\|X_i\\beta_i-X_i\\beta_i^k - \\bar{\\mu}^k + \\bar{X\\beta}^k + u^k\\|^2_2 + \\lambda\\|\\beta_i\\|_1 \\right) \\\\\\\n",
    "   \\bar{\\mu}^{k+1} &= \\frac{1}{N+\\rho} \\left(y + \\rho \\bar{X\\beta}^k + \\rho u^k\\right) \\\\\\\n",
    "   u^{k+1} &= u^k + \\bar{X\\beta}^k - \\bar{\\mu}^{k+1}\n",
    "   \\end{aligned}\n",
    "$$"
   ]
  },
  {
   "cell_type": "code",
   "execution_count": 1,
   "metadata": {
    "collapsed": false
   },
   "outputs": [
    {
     "name": "stderr",
     "output_type": "stream",
     "text": [
      "/home/jb/.virtualenvs/py2/local/lib/python2.7/site-packages/IPython/parallel/client/client.py:452: RuntimeWarning: \n",
      "            Controller appears to be listening on localhost, but not on this machine.\n",
      "            If this is true, you should specify Client(...,sshserver='you@127.0.1.1')\n",
      "            or instruct your controller to listen on an external IP.\n",
      "  RuntimeWarning)\n"
     ]
    },
    {
     "ename": "ValueError",
     "evalue": "Connection file is invalid (missing 'key'), possibly from an old version of IPython.\nIf you are reusing connection files, remove them and start ipcontroller again.",
     "output_type": "error",
     "traceback": [
      "\u001b[1;31m---------------------------------------------------------------------------\u001b[0m",
      "\u001b[1;31mValueError\u001b[0m                                Traceback (most recent call last)",
      "\u001b[1;32m<ipython-input-1-9203c48e639d>\u001b[0m in \u001b[0;36m<module>\u001b[1;34m()\u001b[0m\n\u001b[0;32m      1\u001b[0m \u001b[0mget_ipython\u001b[0m\u001b[1;33m(\u001b[0m\u001b[1;33m)\u001b[0m\u001b[1;33m.\u001b[0m\u001b[0mmagic\u001b[0m\u001b[1;33m(\u001b[0m\u001b[1;34mu'load_ext parallelmagic'\u001b[0m\u001b[1;33m)\u001b[0m\u001b[1;33m\u001b[0m\u001b[0m\n\u001b[0;32m      2\u001b[0m \u001b[1;32mfrom\u001b[0m \u001b[0mIPython\u001b[0m\u001b[1;33m.\u001b[0m\u001b[0mparallel\u001b[0m \u001b[1;32mimport\u001b[0m \u001b[0mClient\u001b[0m\u001b[1;33m\u001b[0m\u001b[0m\n\u001b[1;32m----> 3\u001b[1;33m \u001b[0mrc\u001b[0m \u001b[1;33m=\u001b[0m \u001b[0mClient\u001b[0m\u001b[1;33m(\u001b[0m\u001b[1;33m)\u001b[0m\u001b[1;33m\u001b[0m\u001b[0m\n\u001b[0m\u001b[0;32m      4\u001b[0m \u001b[0mdview\u001b[0m \u001b[1;33m=\u001b[0m \u001b[0mrc\u001b[0m\u001b[1;33m[\u001b[0m\u001b[1;33m:\u001b[0m\u001b[1;33m]\u001b[0m\u001b[1;33m\u001b[0m\u001b[0m\n\u001b[0;32m      5\u001b[0m \u001b[0mdview\u001b[0m\u001b[1;33m.\u001b[0m\u001b[0mactivate\u001b[0m\u001b[1;33m(\u001b[0m\u001b[1;33m)\u001b[0m\u001b[1;33m\u001b[0m\u001b[0m\n",
      "\u001b[1;32m/home/jb/.virtualenvs/py2/local/lib/python2.7/site-packages/IPython/parallel/client/client.pyc\u001b[0m in \u001b[0;36m__init__\u001b[1;34m(self, url_file, profile, profile_dir, ipython_dir, context, debug, sshserver, sshkey, password, paramiko, timeout, cluster_id, **extra_args)\u001b[0m\n\u001b[0;32m    480\u001b[0m                 \u001b[1;34m\"If you are reusing connection files, remove them and start ipcontroller again.\"\u001b[0m\u001b[1;33m\u001b[0m\u001b[0m\n\u001b[0;32m    481\u001b[0m             ])\n\u001b[1;32m--> 482\u001b[1;33m             \u001b[1;32mraise\u001b[0m \u001b[0mValueError\u001b[0m\u001b[1;33m(\u001b[0m\u001b[0mmsg\u001b[0m\u001b[1;33m.\u001b[0m\u001b[0mformat\u001b[0m\u001b[1;33m(\u001b[0m\u001b[0mexc\u001b[0m\u001b[1;33m.\u001b[0m\u001b[0mmessage\u001b[0m\u001b[1;33m)\u001b[0m\u001b[1;33m)\u001b[0m\u001b[1;33m\u001b[0m\u001b[0m\n\u001b[0m\u001b[0;32m    483\u001b[0m \u001b[1;33m\u001b[0m\u001b[0m\n\u001b[0;32m    484\u001b[0m         \u001b[0mself\u001b[0m\u001b[1;33m.\u001b[0m\u001b[0msession\u001b[0m \u001b[1;33m=\u001b[0m \u001b[0mSession\u001b[0m\u001b[1;33m(\u001b[0m\u001b[1;33m**\u001b[0m\u001b[0mextra_args\u001b[0m\u001b[1;33m)\u001b[0m\u001b[1;33m\u001b[0m\u001b[0m\n",
      "\u001b[1;31mValueError\u001b[0m: Connection file is invalid (missing 'key'), possibly from an old version of IPython.\nIf you are reusing connection files, remove them and start ipcontroller again."
     ]
    }
   ],
   "source": [
    "%load_ext parallelmagic\n",
    "from IPython.parallel import Client\n",
    "rc = Client()\n",
    "dview = rc[:]\n",
    "dview.activate()\n",
    "dview.block = True"
   ]
  },
  {
   "cell_type": "code",
   "execution_count": 26,
   "metadata": {
    "collapsed": false
   },
   "outputs": [
    {
     "name": "stdout",
     "output_type": "stream",
     "text": [
      "Parallel execution on engine(s): [0, 1]\n"
     ]
    }
   ],
   "source": [
    "%%px\n",
    "import os.path\n",
    "\n",
    "import regreg.api as R; reload(R)\n",
    "import regreg.paths as RP; reload(RP)\n",
    "import numpy as np\n",
    "\n",
    "import scipy.io, scipy.sparse\n",
    "\n",
    "# np.random.seed(1)  # for debugging\n",
    "\n",
    "class loss_factory(RP.squared_error_factory):\n",
    "    \n",
    "    def __init__(self, response, rho=1.):\n",
    "        RP.squared_error_factory.__init__(self, response)\n",
    "        self.rho = rho\n",
    "   \n",
    "    def __call__(self, X):\n",
    "        n = self.response.shape[0]\n",
    "        return R.squared_error(X, -self.response, coef=self.rho/n)\n",
    "\n",
    "# subclass specific to this dataset\n",
    "class newsgroup_factory(loss_factory):\n",
    "    \n",
    "    def __init__(self, newsgroup_path, rows, columns, rho=1.):\n",
    "        # can we read the newsgroup.mat on all nodes at once?\n",
    "        D = scipy.io.loadmat(os.path.join(newsgroup_path, 'newsgroup.mat'))\n",
    "        X = D['X'][rows].tocsc(); Y = D['Y'].reshape(-1)[rows] \n",
    "        self.rows = rows\n",
    "        self.X = X[:,columns]\n",
    "        self.columns = columns\n",
    "        self.selector = R.selector(columns, X.shape[1])\n",
    "        loss_factory.__init__(self, Y, rho)\n",
    "        \n",
    "    def fitted(self, solution):\n",
    "        solution = solution.tocsr()\n",
    "        intercept = np.array(solution[0].todense()).reshape(-1)\n",
    "        return np.array((self.X * solution[1:]).todense()) + intercept[np.newaxis, :]\n",
    "    \n",
    "    def beta(self, solution):\n",
    "        return self.selector.adjoint_map(solution)"
   ]
  },
  {
   "cell_type": "markdown",
   "metadata": {},
   "source": [
    "Get ready to instantiate each node.\n"
   ]
  },
  {
   "cell_type": "code",
   "execution_count": 27,
   "metadata": {
    "collapsed": true
   },
   "outputs": [],
   "source": [
    "import numpy as np, scipy.io, os.path, regreg.api as R\n",
    "newsgroup_path = '/home/fperez/research/code/regreg'\n",
    "D = scipy.io.loadmat(os.path.join(newsgroup_path, 'newsgroup.mat'))\n",
    "n, p = D['X'].shape;\n",
    "columns = np.arange(p)\n",
    "np.random.shuffle(columns)\n",
    "rows = np.arange(n)\n",
    "np.random.shuffle(rows)\n",
    "rows_subsampled = rows[:1000]\n",
    "columns_subsampled = columns[:1000]\n",
    "dview.scatter('columns', columns_subsampled)\n",
    "dview.push({'rows':rows_subsampled})\n",
    "\n",
    "@dview.remote(block=True)\n",
    "def init_nodes(lagrange_sequence, newsgroup_path, rows):\n",
    "    global lasso, factory, fitted\n",
    "    factory = newsgroup_factory(newsgroup_path, rows, columns)\n",
    "    lasso = R.lasso(factory, factory.X)\n",
    "    lasso.lagrange_sequence = lagrange_sequence\n",
    "    fitted = np.zeros((factory.rows.shape[0], lasso.lagrange_sequence.shape[0]))\n",
    "    \n",
    "X = D['X'][rows_subsampled].tocsc(); Y = D['Y'].reshape(-1)[rows_subsampled] \n",
    "master_lasso = R.lasso.squared_error(X, Y)\n",
    "\n",
    "objective = master_lasso.problem.objective\n",
    "\n",
    "    "
   ]
  },
  {
   "cell_type": "code",
   "execution_count": 28,
   "metadata": {
    "collapsed": false
   },
   "outputs": [
    {
     "data": {
      "text/plain": [
       "[None, None]"
      ]
     },
     "execution_count": 28,
     "metadata": {},
     "output_type": "execute_result"
    }
   ],
   "source": [
    "init_nodes([master_lasso.lagrange_sequence[50]], newsgroup_path, rows_subsampled)\n"
   ]
  },
  {
   "cell_type": "markdown",
   "metadata": {},
   "source": [
    "Each node will have a copy of its own fitted values $X_i\\beta_i^k$ stored as `fitted`. The\n",
    "response for the next update is \n",
    "$$\n",
    "X_i\\beta_i^k + \\bar{\\mu}^k - \\bar{X\\beta}^k - u^k\n",
    "$$\n",
    "\n",
    "The variable `pseudo_response` is sent from the master node and is equal to \n",
    "$$\n",
    "\\bar{\\mu}^k - \\bar{X\\beta}^k - u^k.\n",
    "$$\n",
    "\n",
    "The function `update_global_variables` takes care of the updates\n",
    "$$\n",
    "   \\newcommand{\\argmin}{\\mathop{argmin}}\n",
    "   \\begin{aligned}\n",
    "   \\bar{\\mu}^{k+1} &= \\frac{1}{N+\\rho} \\left(y + \\rho \\bar{X\\beta}^k + \\rho u^k\\right) \\\\\\\n",
    "   u^{k+1} &= u^k + \\bar{X\\beta}^k - \\bar{\\mu}^{k+1}\n",
    "   \\end{aligned}\n",
    "$$"
   ]
  },
  {
   "cell_type": "code",
   "execution_count": 29,
   "metadata": {
    "collapsed": true
   },
   "outputs": [],
   "source": [
    "def update_global_variables(lasso_fits, y, u, rho=1.):\n",
    "    # this is a reduction operation\n",
    "    Xbeta_bar = np.mean(lasso_fits, 0)\n",
    "\n",
    "    N = len(lasso_fits)\n",
    "    mu_bar = (y[:,np.newaxis] + rho * (Xbeta_bar + u)) / (N + rho)\n",
    "    u = u + Xbeta_bar - mu_bar\n",
    "    return Xbeta_bar, mu_bar, u"
   ]
  },
  {
   "cell_type": "markdown",
   "metadata": {},
   "source": [
    "The master must pass the `pseudo_response` to the nodes, which gets added to the local\n",
    "fitted values and becomes the new response for the node's `lasso` instance."
   ]
  },
  {
   "cell_type": "code",
   "execution_count": 32,
   "metadata": {
    "collapsed": false
   },
   "outputs": [
    {
     "ename": "RemoteError",
     "evalue": "ValueError(operands could not be broadcast together with shapes (1000) (1000,10) )\nTraceback (most recent call last):\n  File \"/home/fperez/usr/lib/python2.7/site-packages/IPython/zmq/ipkernel.py\", line 561, in apply_request\n    exec code in self.shell.user_global_ns, self.shell.user_ns\n  File \"<string>\", line 1, in <module>\n  File \"<ipython-input-32-f89333c8c28b>\", line 4, in update_lasso_nodes\n  File \"/home/fperez/usr/local/lib/python2.7/site-packages/regreg/paths.py\", line 272, in main\n    coef_stop=coef_stop)\n  File \"/home/fperez/usr/local/lib/python2.7/site-packages/regreg/paths.py\", line 224, in solve_subproblem\n    sub_soln = subproblem.solve(**solve_args)\n  File \"/home/fperez/usr/local/lib/python2.7/site-packages/regreg/simple.py\", line 69, in solve\n    solver.fit(**fit_args)\n  File \"/home/fperez/usr/local/lib/python2.7/site-packages/regreg/algorithms.py\", line 105, in fit\n    current_f = self.composite.smooth_objective(r,mode='func')\n  File \"/home/fperez/usr/local/lib/python2.7/site-packages/regreg/simple.py\", line 28, in smooth_objective\n    vs = self.smooth_atom.smooth_objective(x, mode, check_feasibility)\n  File \"/home/fperez/usr/local/lib/python2.7/site-packages/regreg/smooth.py\", line 152, in smooth_objective\n    v = self.sm_atom.smooth_objective(eta, mode='func')\n  File \"/home/fperez/usr/local/lib/python2.7/site-packages/regreg/quadratic.py\", line 50, in smooth_objective\n    x = self.apply_offset(x)\n  File \"/home/fperez/usr/local/lib/python2.7/site-packages/regreg/composite.py\", line 105, in apply_offset\n    return x + self.offset\nValueError: operands could not be broadcast together with shapes (1000) (1000,10) \n",
     "output_type": "error",
     "traceback": [
      "\u001b[1;31m---------------------------------------------------------------------------\u001b[0m\n\u001b[1;31mRemoteError\u001b[0m                               Traceback (most recent call last)",
      "\u001b[1;32m<ipython-input-32-f89333c8c28b>\u001b[0m in \u001b[0;36m<module>\u001b[1;34m()\u001b[0m\n\u001b[0;32m     20\u001b[0m     \u001b[0mlasso_fits\u001b[0m \u001b[1;33m=\u001b[0m \u001b[0mupdate_lasso_nodes\u001b[0m\u001b[1;33m(\u001b[0m\u001b[0mpseudo_response\u001b[0m\u001b[1;33m)\u001b[0m\u001b[1;33m\u001b[0m\u001b[0m\n\u001b[0;32m     21\u001b[0m \u001b[1;32mexcept\u001b[0m \u001b[0mCompositeError\u001b[0m\u001b[1;33m,\u001b[0m \u001b[0me\u001b[0m\u001b[1;33m:\u001b[0m\u001b[1;33m\u001b[0m\u001b[0m\n\u001b[1;32m---> 22\u001b[1;33m     \u001b[0me\u001b[0m\u001b[1;33m.\u001b[0m\u001b[0mraise_exception\u001b[0m\u001b[1;33m(\u001b[0m\u001b[1;33m)\u001b[0m\u001b[1;33m\u001b[0m\u001b[0m\n\u001b[0m\u001b[0;32m     23\u001b[0m \u001b[1;33m\u001b[0m\u001b[0m\n\u001b[0;32m     24\u001b[0m \u001b[0mXbeta_bar\u001b[0m\u001b[1;33m,\u001b[0m \u001b[0mmu_bar\u001b[0m\u001b[1;33m,\u001b[0m \u001b[0mu\u001b[0m \u001b[1;33m=\u001b[0m \u001b[0mupdate_global_variables\u001b[0m\u001b[1;33m(\u001b[0m\u001b[0mlasso_fits\u001b[0m\u001b[1;33m,\u001b[0m \u001b[0mY\u001b[0m\u001b[1;33m,\u001b[0m \u001b[0mu\u001b[0m\u001b[1;33m)\u001b[0m\u001b[1;33m\u001b[0m\u001b[0m\n",
      "\u001b[1;32m/home/fperez/usr/lib/python2.7/site-packages/IPython/parallel/error.pyc\u001b[0m in \u001b[0;36mraise_exception\u001b[1;34m(self, excid)\u001b[0m\n\u001b[0;32m    266\u001b[0m             \u001b[1;32mraise\u001b[0m \u001b[0mIndexError\u001b[0m\u001b[1;33m(\u001b[0m\u001b[1;34m\"an exception with index %i does not exist\"\u001b[0m\u001b[1;33m%\u001b[0m\u001b[0mexcid\u001b[0m\u001b[1;33m)\u001b[0m\u001b[1;33m\u001b[0m\u001b[0m\n\u001b[0;32m    267\u001b[0m         \u001b[1;32melse\u001b[0m\u001b[1;33m:\u001b[0m\u001b[1;33m\u001b[0m\u001b[0m\n\u001b[1;32m--> 268\u001b[1;33m             \u001b[1;32mraise\u001b[0m \u001b[0mRemoteError\u001b[0m\u001b[1;33m(\u001b[0m\u001b[0men\u001b[0m\u001b[1;33m,\u001b[0m \u001b[0mev\u001b[0m\u001b[1;33m,\u001b[0m \u001b[0metb\u001b[0m\u001b[1;33m,\u001b[0m \u001b[0mei\u001b[0m\u001b[1;33m)\u001b[0m\u001b[1;33m\u001b[0m\u001b[0m\n\u001b[0m\u001b[0;32m    269\u001b[0m \u001b[1;33m\u001b[0m\u001b[0m\n\u001b[0;32m    270\u001b[0m \u001b[1;33m\u001b[0m\u001b[0m\n",
      "\u001b[1;31mRemoteError\u001b[0m: ValueError(operands could not be broadcast together with shapes (1000) (1000,10) )\nTraceback (most recent call last):\n  File \"/home/fperez/usr/lib/python2.7/site-packages/IPython/zmq/ipkernel.py\", line 561, in apply_request\n    exec code in self.shell.user_global_ns, self.shell.user_ns\n  File \"<string>\", line 1, in <module>\n  File \"<ipython-input-32-f89333c8c28b>\", line 4, in update_lasso_nodes\n  File \"/home/fperez/usr/local/lib/python2.7/site-packages/regreg/paths.py\", line 272, in main\n    coef_stop=coef_stop)\n  File \"/home/fperez/usr/local/lib/python2.7/site-packages/regreg/paths.py\", line 224, in solve_subproblem\n    sub_soln = subproblem.solve(**solve_args)\n  File \"/home/fperez/usr/local/lib/python2.7/site-packages/regreg/simple.py\", line 69, in solve\n    solver.fit(**fit_args)\n  File \"/home/fperez/usr/local/lib/python2.7/site-packages/regreg/algorithms.py\", line 105, in fit\n    current_f = self.composite.smooth_objective(r,mode='func')\n  File \"/home/fperez/usr/local/lib/python2.7/site-packages/regreg/simple.py\", line 28, in smooth_objective\n    vs = self.smooth_atom.smooth_objective(x, mode, check_feasibility)\n  File \"/home/fperez/usr/local/lib/python2.7/site-packages/regreg/smooth.py\", line 152, in smooth_objective\n    v = self.sm_atom.smooth_objective(eta, mode='func')\n  File \"/home/fperez/usr/local/lib/python2.7/site-packages/regreg/quadratic.py\", line 50, in smooth_objective\n    x = self.apply_offset(x)\n  File \"/home/fperez/usr/local/lib/python2.7/site-packages/regreg/composite.py\", line 105, in apply_offset\n    return x + self.offset\nValueError: operands could not be broadcast together with shapes (1000) (1000,10) \n"
     ]
    }
   ],
   "source": [
    "@dview.remote()\n",
    "def update_lasso_nodes(pseudo_response):\n",
    "    global fitted, results\n",
    "    results = lasso.main()\n",
    "    #raise ValueError(`fitted.shape`)\n",
    "    fitted[:] = factory.fitted(results['beta'])\n",
    "    factory.response = fitted + pseudo_response\n",
    "    return fitted\n",
    "\n",
    "@dview.remote()\n",
    "def get_beta():\n",
    "    global factory, results\n",
    "    return factory.beta(results['beta'])\n",
    "\n",
    "\n",
    "pseudo_response = np.zeros((1000, 10))\n",
    "u = np.zeros(pseudo_response.shape)\n",
    "from IPython.parallel.error import CompositeError\n",
    "try:\n",
    "    lasso_fits = update_lasso_nodes(pseudo_response)\n",
    "except CompositeError, e:\n",
    "    e.raise_exception()\n",
    "    \n",
    "Xbeta_bar, mu_bar, u = update_global_variables(lasso_fits, Y, u)\n",
    "\n",
    "\n",
    "#a = get_beta()\n",
    "#print [aa.shape for aa in a]"
   ]
  },
  {
   "cell_type": "code",
   "execution_count": 33,
   "metadata": {
    "collapsed": false
   },
   "outputs": [
    {
     "name": "stdout",
     "output_type": "stream",
     "text": [
      "{\n",
      "  \"stdin_port\": 41621, \n",
      "  \"ip\": \"127.0.0.1\", \n",
      "  \"hb_port\": 42021, \n",
      "  \"key\": \"7fa4437e-c791-4d99-af2d-d905d9eb06dc\", \n",
      "  \"shell_port\": 59622, \n",
      "  \"iopub_port\": 37528\n",
      "}\n",
      "\n",
      "Paste the above JSON into a file, and connect with:\n",
      "    $> ipython <app> --existing <file>\n",
      "or, if you are local, you can connect with just:\n",
      "    $> ipython <app> --existing kernel-0353447a-a8e0-4bde-9de7-2b2771f136dd.json \n",
      "or even just:\n",
      "    $> ipython <app> --existing \n",
      "if this is the most recent IPython session you have started.\n"
     ]
    }
   ],
   "source": [
    "%connect_info"
   ]
  },
  {
   "cell_type": "code",
   "execution_count": null,
   "metadata": {
    "collapsed": true
   },
   "outputs": [],
   "source": []
  }
 ],
 "metadata": {
  "kernelspec": {
   "display_name": "Python 2",
   "language": "python",
   "name": "python2"
  },
  "language_info": {
   "codemirror_mode": {
    "name": "ipython",
    "version": 2
   },
   "file_extension": ".py",
   "mimetype": "text/x-python",
   "name": "python",
   "nbconvert_exporter": "python",
   "pygments_lexer": "ipython2",
   "version": "2.7.6"
  }
 },
 "nbformat": 4,
 "nbformat_minor": 0
}
